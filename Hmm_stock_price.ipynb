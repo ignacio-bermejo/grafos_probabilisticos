{
  "nbformat": 4,
  "nbformat_minor": 0,
  "metadata": {
    "colab": {
      "name": "Hmm_stock_price.ipynb",
      "provenance": [],
      "collapsed_sections": []
    },
    "kernelspec": {
      "name": "python3",
      "display_name": "Python 3"
    }
  },
  "cells": [
    {
      "cell_type": "code",
      "metadata": {
        "colab": {
          "base_uri": "https://localhost:8080/"
        },
        "id": "gUXznJZ3hnjj",
        "outputId": "6dc95a50-259d-461d-879e-5d989985996e"
      },
      "source": [
        "!pip install hmmlearn\n",
        "!pip install -U PyYAML\n"
      ],
      "execution_count": null,
      "outputs": [
        {
          "output_type": "stream",
          "text": [
            "Collecting hmmlearn\n",
            "  Downloading hmmlearn-0.2.6-cp37-cp37m-manylinux_2_5_x86_64.manylinux1_x86_64.whl (374 kB)\n",
            "\u001b[?25l\r\u001b[K     |▉                               | 10 kB 24.5 MB/s eta 0:00:01\r\u001b[K     |█▊                              | 20 kB 30.1 MB/s eta 0:00:01\r\u001b[K     |██▋                             | 30 kB 29.5 MB/s eta 0:00:01\r\u001b[K     |███▌                            | 40 kB 20.1 MB/s eta 0:00:01\r\u001b[K     |████▍                           | 51 kB 5.7 MB/s eta 0:00:01\r\u001b[K     |█████▎                          | 61 kB 6.2 MB/s eta 0:00:01\r\u001b[K     |██████▏                         | 71 kB 5.6 MB/s eta 0:00:01\r\u001b[K     |███████                         | 81 kB 6.3 MB/s eta 0:00:01\r\u001b[K     |███████▉                        | 92 kB 6.6 MB/s eta 0:00:01\r\u001b[K     |████████▊                       | 102 kB 5.5 MB/s eta 0:00:01\r\u001b[K     |█████████▋                      | 112 kB 5.5 MB/s eta 0:00:01\r\u001b[K     |██████████▌                     | 122 kB 5.5 MB/s eta 0:00:01\r\u001b[K     |███████████▍                    | 133 kB 5.5 MB/s eta 0:00:01\r\u001b[K     |████████████▎                   | 143 kB 5.5 MB/s eta 0:00:01\r\u001b[K     |█████████████▏                  | 153 kB 5.5 MB/s eta 0:00:01\r\u001b[K     |██████████████                  | 163 kB 5.5 MB/s eta 0:00:01\r\u001b[K     |██████████████▉                 | 174 kB 5.5 MB/s eta 0:00:01\r\u001b[K     |███████████████▊                | 184 kB 5.5 MB/s eta 0:00:01\r\u001b[K     |████████████████▋               | 194 kB 5.5 MB/s eta 0:00:01\r\u001b[K     |█████████████████▌              | 204 kB 5.5 MB/s eta 0:00:01\r\u001b[K     |██████████████████▍             | 215 kB 5.5 MB/s eta 0:00:01\r\u001b[K     |███████████████████▎            | 225 kB 5.5 MB/s eta 0:00:01\r\u001b[K     |████████████████████            | 235 kB 5.5 MB/s eta 0:00:01\r\u001b[K     |█████████████████████           | 245 kB 5.5 MB/s eta 0:00:01\r\u001b[K     |█████████████████████▉          | 256 kB 5.5 MB/s eta 0:00:01\r\u001b[K     |██████████████████████▊         | 266 kB 5.5 MB/s eta 0:00:01\r\u001b[K     |███████████████████████▋        | 276 kB 5.5 MB/s eta 0:00:01\r\u001b[K     |████████████████████████▌       | 286 kB 5.5 MB/s eta 0:00:01\r\u001b[K     |█████████████████████████▍      | 296 kB 5.5 MB/s eta 0:00:01\r\u001b[K     |██████████████████████████▎     | 307 kB 5.5 MB/s eta 0:00:01\r\u001b[K     |███████████████████████████     | 317 kB 5.5 MB/s eta 0:00:01\r\u001b[K     |████████████████████████████    | 327 kB 5.5 MB/s eta 0:00:01\r\u001b[K     |████████████████████████████▉   | 337 kB 5.5 MB/s eta 0:00:01\r\u001b[K     |█████████████████████████████▊  | 348 kB 5.5 MB/s eta 0:00:01\r\u001b[K     |██████████████████████████████▋ | 358 kB 5.5 MB/s eta 0:00:01\r\u001b[K     |███████████████████████████████▌| 368 kB 5.5 MB/s eta 0:00:01\r\u001b[K     |████████████████████████████████| 374 kB 5.5 MB/s \n",
            "\u001b[?25hRequirement already satisfied: numpy>=1.10 in /usr/local/lib/python3.7/dist-packages (from hmmlearn) (1.19.5)\n",
            "Requirement already satisfied: scikit-learn>=0.16 in /usr/local/lib/python3.7/dist-packages (from hmmlearn) (0.22.2.post1)\n",
            "Requirement already satisfied: scipy>=0.19 in /usr/local/lib/python3.7/dist-packages (from hmmlearn) (1.4.1)\n",
            "Requirement already satisfied: joblib>=0.11 in /usr/local/lib/python3.7/dist-packages (from scikit-learn>=0.16->hmmlearn) (1.0.1)\n",
            "Installing collected packages: hmmlearn\n",
            "Successfully installed hmmlearn-0.2.6\n",
            "Requirement already satisfied: PyYAML in /usr/local/lib/python3.7/dist-packages (3.13)\n",
            "Collecting PyYAML\n",
            "  Downloading PyYAML-5.4.1-cp37-cp37m-manylinux1_x86_64.whl (636 kB)\n",
            "\u001b[K     |████████████████████████████████| 636 kB 4.9 MB/s \n",
            "\u001b[?25hInstalling collected packages: PyYAML\n",
            "  Attempting uninstall: PyYAML\n",
            "    Found existing installation: PyYAML 3.13\n",
            "    Uninstalling PyYAML-3.13:\n",
            "      Successfully uninstalled PyYAML-3.13\n",
            "Successfully installed PyYAML-5.4.1\n"
          ],
          "name": "stdout"
        }
      ]
    },
    {
      "cell_type": "markdown",
      "metadata": {
        "id": "EgxNWBcBIy6j"
      },
      "source": [
        "La descarga de datos para el ejemplo se puede realizar desde el siguiente link:\n",
        "\n",
        "https://finance.yahoo.com/quote/SPY/history?p=SPY"
      ]
    },
    {
      "cell_type": "code",
      "metadata": {
        "colab": {
          "base_uri": "https://localhost:8080/",
          "height": 298
        },
        "id": "Hjc_fmNJd4pu",
        "outputId": "0d09b4e1-3790-489f-dae1-3aa7a1d5a854"
      },
      "source": [
        "from __future__ import print_function\n",
        "\n",
        "import datetime\n",
        "import pickle\n",
        "import warnings\n",
        "\n",
        "from hmmlearn.hmm import GaussianHMM\n",
        "from matplotlib import cm, pyplot as plt\n",
        "from matplotlib.dates import YearLocator, MonthLocator\n",
        "import numpy as np\n",
        "import pandas as pd\n",
        "import seaborn as sns\n",
        "\n",
        "\n",
        "def obtain_prices_df(csv_filepath, end_date):\n",
        "    \"\"\"\n",
        "    \"\"\"\n",
        "    df = pd.read_csv(\n",
        "        csv_filepath, header=0,\n",
        "        names=[\n",
        "            \"Date\", \"Open\", \"High\", \"Low\", \n",
        "            \"Close\", \"Adj Close\", \"Volume\"\n",
        "        ],\n",
        "        index_col=\"Date\", parse_dates=True\n",
        "    )\n",
        "    df[\"Returns\"] = df[\"Adj Close\"].pct_change()\n",
        "    df = df[:end_date.strftime(\"%Y-%m-%d\")]\n",
        "    df.dropna(inplace=True)\n",
        "    return df\n",
        "\n",
        "\n",
        "def plot_in_sample_hidden_states(hmm_model, df):\n",
        "    \"\"\"\n",
        "    \"\"\"\n",
        "    hidden_states = hmm_model.predict(rets)\n",
        "    fig, axs = plt.subplots(\n",
        "        hmm_model.n_components, \n",
        "        sharex=True, sharey=True\n",
        "    )\n",
        "    colours = cm.rainbow(\n",
        "        np.linspace(0, 1, hmm_model.n_components)\n",
        "    )\n",
        "    for i, (ax, colour) in enumerate(zip(axs, colours)):\n",
        "        mask = hidden_states == i\n",
        "        ax.plot_date(\n",
        "            df.index[mask], \n",
        "            df[\"Adj Close\"][mask], \n",
        "            \".\", linestyle='none', \n",
        "            c=colour\n",
        "        )\n",
        "        ax.set_title(\"Hidden State #%s\" % i)\n",
        "        ax.xaxis.set_major_locator(YearLocator())\n",
        "        ax.xaxis.set_minor_locator(MonthLocator())\n",
        "        ax.grid(True)\n",
        "    plt.show()\n",
        "\n",
        "\n",
        "if __name__ == \"__main__\":\n",
        "    warnings.filterwarnings(\"ignore\")\n",
        "\n",
        "\n",
        "    csv_filepath = \"/content/drive/MyDrive/BME/BME_CLASES/MIAX/BME PGM/SPY.csv\"\n",
        "    end_date = datetime.datetime(2019, 12, 31)\n",
        "    spy = obtain_prices_df(csv_filepath, end_date)\n",
        "    rets = np.column_stack([spy[\"Returns\"]])\n",
        " \n",
        "    hmm_model = GaussianHMM(\n",
        "        n_components=2, covariance_type=\"full\", n_iter=100000).fit(rets)\n",
        "    print(\"Model Score:\", hmm_model.score(rets))\n",
        "  \n",
        "    end_date = datetime.datetime(2020, 12, 31)\n",
        "    spy = obtain_prices_df(csv_filepath, end_date)\n",
        "    rets = np.column_stack([spy[\"Returns\"].iloc[-252:]])\n",
        "    plot_in_sample_hidden_states(hmm_model, spy.iloc[-252:,:])"
      ],
      "execution_count": null,
      "outputs": [
        {
          "output_type": "stream",
          "text": [
            "Model Score: 4349.121919230776\n"
          ],
          "name": "stdout"
        },
        {
          "output_type": "display_data",
          "data": {
            "image/png": "[encoded data removed]",
            "text/plain": [
              "<Figure size 432x288 with 2 Axes>"
            ]
          },
          "metadata": {
            "tags": [],
            "needs_background": "light"
          }
        }
      ]
    }
  ]
}